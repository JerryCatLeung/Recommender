{
 "cells": [
  {
   "cell_type": "code",
   "execution_count": 1,
   "metadata": {
    "collapsed": true
   },
   "outputs": [],
   "source": [
    "import tensorflow as tf\n",
    "import numpy as np\n",
    "import dfFunctions\n",
    "from os import getcwd\n",
    "path = getcwd() + '/movielens/ml-1m/ratings.dat'\n",
    "df = dfFunctions.load_dataframe(path)"
   ]
  },
  {
   "cell_type": "code",
   "execution_count": 2,
   "metadata": {
    "collapsed": false
   },
   "outputs": [
    {
     "data": {
      "text/html": [
       "<div>\n",
       "<table border=\"1\" class=\"dataframe\">\n",
       "  <thead>\n",
       "    <tr style=\"text-align: right;\">\n",
       "      <th></th>\n",
       "      <th>user</th>\n",
       "      <th>item</th>\n",
       "      <th>rating</th>\n",
       "    </tr>\n",
       "  </thead>\n",
       "  <tbody>\n",
       "    <tr>\n",
       "      <th>0</th>\n",
       "      <td>0</td>\n",
       "      <td>1192</td>\n",
       "      <td>5.0</td>\n",
       "    </tr>\n",
       "    <tr>\n",
       "      <th>1</th>\n",
       "      <td>0</td>\n",
       "      <td>660</td>\n",
       "      <td>3.0</td>\n",
       "    </tr>\n",
       "    <tr>\n",
       "      <th>2</th>\n",
       "      <td>0</td>\n",
       "      <td>913</td>\n",
       "      <td>3.0</td>\n",
       "    </tr>\n",
       "    <tr>\n",
       "      <th>3</th>\n",
       "      <td>0</td>\n",
       "      <td>3407</td>\n",
       "      <td>4.0</td>\n",
       "    </tr>\n",
       "    <tr>\n",
       "      <th>4</th>\n",
       "      <td>0</td>\n",
       "      <td>2354</td>\n",
       "      <td>5.0</td>\n",
       "    </tr>\n",
       "  </tbody>\n",
       "</table>\n",
       "</div>"
      ],
      "text/plain": [
       "   user  item  rating\n",
       "0     0  1192     5.0\n",
       "1     0   660     3.0\n",
       "2     0   913     3.0\n",
       "3     0  3407     4.0\n",
       "4     0  2354     5.0"
      ]
     },
     "execution_count": 2,
     "metadata": {},
     "output_type": "execute_result"
    }
   ],
   "source": [
    "df.head()"
   ]
  },
  {
   "cell_type": "code",
   "execution_count": 31,
   "metadata": {
    "collapsed": true
   },
   "outputs": [],
   "source": [
    "finder = dfFunctions.ItemFinder(df,'user','item','rating')"
   ]
  },
  {
   "cell_type": "markdown",
   "metadata": {},
   "source": [
    "# Uma saida eh cortar os vetores de item pelo menor tamanho para passar para o tf grafo uma matrix "
   ]
  },
  {
   "cell_type": "code",
   "execution_count": 28,
   "metadata": {
    "collapsed": false
   },
   "outputs": [
    {
     "name": "stdout",
     "output_type": "stream",
     "text": [
      "[[1356 3067 1536  646 2193  647 2267 2627 1102 2915 3467 1209 1791 1686\n",
      "  1212 3577 2880 3029 1216 3104  433]\n",
      " [3420 1640  647 1393 3533  103 2734 1209 1430 3867 1078 2996 1614 1290\n",
      "  1258  652 2166 1579 3618  259 2857]\n",
      " [3467 1209 2950 1213 1035  259 2027  479 1195 1197 1953 1096 3417 3701\n",
      "  2365 1386 3526 1200 2691 2946 1239]\n",
      " [ 718 2621 1820 3283 1679 3357 2628 2557  139  214  143  217 2123 2051\n",
      "  2053 3500 2996 2699 1185 3503 1187]\n",
      " [2405 1100 3716 1029 1687 1034 3577  363 3500 3071  367  295   47 3073\n",
      "  1187 3507  587    0 1042 2857  376]\n",
      " [1752 1681  215 2996 1258 1187 2705  585  586 2638 2135 1264 2709  662\n",
      "   589 1196 2711 1197  592 1915  596]]\n"
     ]
    }
   ],
   "source": [
    "users = np.array([1,2,3,44,5,10])\n",
    "items_per_users = [finder.get_item(i) for i in users]\n",
    "min_size = min([len(array) for array in items_per_users])\n",
    "items_per_users = np.array([array[0:min_size] for array in items_per_users])\n",
    "print(items_per_users)\n"
   ]
  },
  {
   "cell_type": "code",
   "execution_count": 32,
   "metadata": {
    "collapsed": false
   },
   "outputs": [],
   "source": [
    "#item_num = max(df['item']) + 1\n",
    "#dim = 5\n",
    "\n",
    "graph = tf.Graph()\n",
    "with graph.as_default():\n",
    "        tf_user_batch = tf.placeholder(tf.int32, shape=[None], name=\"id_user\")\n",
    "        tf_user_item = tf.placeholder(dtype=object, shape=[None,None], name=\"user_item\")\n"
   ]
  },
  {
   "cell_type": "code",
   "execution_count": 33,
   "metadata": {
    "collapsed": false
   },
   "outputs": [
    {
     "name": "stdout",
     "output_type": "stream",
     "text": [
      "[[1356 3067 1536 646 2193 647 2267 2627 1102 2915 3467 1209 1791 1686 1212\n",
      "  3577 2880 3029 1216 3104 433]\n",
      " [3420 1640 647 1393 3533 103 2734 1209 1430 3867 1078 2996 1614 1290 1258\n",
      "  652 2166 1579 3618 259 2857]\n",
      " [3467 1209 2950 1213 1035 259 2027 479 1195 1197 1953 1096 3417 3701 2365\n",
      "  1386 3526 1200 2691 2946 1239]\n",
      " [718 2621 1820 3283 1679 3357 2628 2557 139 214 143 217 2123 2051 2053\n",
      "  3500 2996 2699 1185 3503 1187]\n",
      " [2405 1100 3716 1029 1687 1034 3577 363 3500 3071 367 295 47 3073 1187\n",
      "  3507 587 0 1042 2857 376]\n",
      " [1752 1681 215 2996 1258 1187 2705 585 586 2638 2135 1264 2709 662 589\n",
      "  1196 2711 1197 592 1915 596]]\n"
     ]
    }
   ],
   "source": [
    "with tf.Session(graph=graph) as sess: \n",
    "    feed_dict = {tf_user_batch: users,tf_user_item: items_per_users} \n",
    "    tf.initialize_all_variables().run()\n",
    "    a  = sess.run(tf_user_item, feed_dict=feed_dict)\n",
    "    print(a)"
   ]
  },
  {
   "cell_type": "code",
   "execution_count": 34,
   "metadata": {
    "collapsed": false
   },
   "outputs": [
    {
     "name": "stdout",
     "output_type": "stream",
     "text": [
      "[6 2]\n"
     ]
    }
   ],
   "source": [
    "import tensorflow as tf\n",
    "\n",
    "my_tensor = tf.constant(0, shape=[6 ,2]) # <tf.Tensor 'Const_4:0' shape=(6, 2) dtype=int32>\n",
    "my_dynamic_shape = tf.shape(my_tensor) # <tf.Tensor 'Shape:0' shape=(2,) dtype=int32>\n",
    "# The shape is (2,) because my_tensor is a 2-D tensor, so the dynamic shape is a 1-D tensor containing size of my_tensor dimensions\n",
    "\n",
    "my_reshaped_tensor = tf.reshape(my_tensor, [2, 3, 2]) # <tf.Tensor 'Reshape_2:0' shape=(2, 3, 2) dtype=int32>\n",
    "\n",
    "# To access a dynamic shape value, you need to run your graph and feed any placeholder that your tensor my depended upon:\n",
    "print(my_dynamic_shape.eval(session=tf.Session(), feed_dict={\n",
    "    my_tensor: [[1., 2.], [1., 2.], [1., 2.], [1., 2.], [1., 2.], [1., 2.]]\n",
    "}))"
   ]
  },
  {
   "cell_type": "code",
   "execution_count": null,
   "metadata": {
    "collapsed": true
   },
   "outputs": [],
   "source": []
  }
 ],
 "metadata": {
  "kernelspec": {
   "display_name": "Python 3",
   "language": "python",
   "name": "python3"
  },
  "language_info": {
   "codemirror_mode": {
    "name": "ipython",
    "version": 3
   },
   "file_extension": ".py",
   "mimetype": "text/x-python",
   "name": "python",
   "nbconvert_exporter": "python",
   "pygments_lexer": "ipython3",
   "version": "3.5.2"
  }
 },
 "nbformat": 4,
 "nbformat_minor": 1
}
