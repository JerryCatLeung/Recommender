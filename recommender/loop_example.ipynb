{
 "cells": [
  {
   "cell_type": "code",
   "execution_count": 42,
   "metadata": {
    "collapsed": false
   },
   "outputs": [
    {
     "name": "stdout",
     "output_type": "stream",
     "text": [
      "Tensor(\"Sum:0\", shape=(), dtype=float32) <class 'tensorflow.python.framework.ops.Tensor'>\n",
      "Tensor(\"Sum_1:0\", shape=(), dtype=float32) <class 'tensorflow.python.framework.ops.Tensor'>\n",
      "Tensor(\"Sum_2:0\", shape=(), dtype=float32) <class 'tensorflow.python.framework.ops.Tensor'>\n",
      "Tensor(\"Sum_3:0\", shape=(), dtype=float32) <class 'tensorflow.python.framework.ops.Tensor'>\n",
      "Tensor(\"Sum_4:0\", shape=(), dtype=float32) <class 'tensorflow.python.framework.ops.Tensor'>\n",
      "Tensor(\"Sum_5:0\", shape=(), dtype=float32) <class 'tensorflow.python.framework.ops.Tensor'>\n",
      "Tensor(\"Sum_6:0\", shape=(), dtype=float32) <class 'tensorflow.python.framework.ops.Tensor'>\n",
      "Tensor(\"Sum_7:0\", shape=(), dtype=float32) <class 'tensorflow.python.framework.ops.Tensor'>\n",
      "Tensor(\"Sum_8:0\", shape=(), dtype=float32) <class 'tensorflow.python.framework.ops.Tensor'>\n",
      "Tensor(\"Sum_9:0\", shape=(), dtype=float32) <class 'tensorflow.python.framework.ops.Tensor'>\n",
      "0.048032\n",
      "0.48032\n"
     ]
    }
   ],
   "source": [
    "import tensorflow as tf\n",
    "import numpy as np\n",
    "\n",
    "item_num = 100\n",
    "dim =5\n",
    "\n",
    "graph = tf.Graph()\n",
    "with graph.as_default():\n",
    "    #preciso deixar claro o shape do placeholder para funcionar\n",
    "    tf_user_batch = tf.placeholder(tf.int32, shape=[10], name=\"id_user\")\n",
    "    w_item1 = tf.get_variable(\"item\", shape=[item_num, dim],\\\n",
    "                          initializer=tf.truncated_normal_initializer(stddev=0.02))\n",
    "    tf_count = tf.constant(0,shape=[],dtype='float32')\n",
    "    for i in  tf.unpack(tf_user_batch):\n",
    "        tf_a = tf.reduce_sum(tf.gather(w_item1,i))\n",
    "        tf_count = tf.add(tf_count,tf_a)        \n",
    "        print(tf_a, type(tf_a))\n",
    "\n",
    "\n",
    "with tf.Session(graph=graph) as sess:\n",
    "    users = np.array([0,0,0,0,0,0,0,0,0,0])\n",
    "    feed_dict = {tf_user_batch: users} \n",
    "    tf.initialize_all_variables().run()\n",
    "    count, a  = sess.run([tf_count,tf_a], feed_dict=feed_dict)\n",
    "    print(a)\n",
    "    print(count)"
   ]
  },
  {
   "cell_type": "code",
   "execution_count": null,
   "metadata": {
    "collapsed": true
   },
   "outputs": [],
   "source": [
    "tf.gather(input, 0)"
   ]
  },
  {
   "cell_type": "code",
   "execution_count": null,
   "metadata": {
    "collapsed": true
   },
   "outputs": [],
   "source": []
  },
  {
   "cell_type": "code",
   "execution_count": null,
   "metadata": {
    "collapsed": true
   },
   "outputs": [],
   "source": []
  }
 ],
 "metadata": {
  "kernelspec": {
   "display_name": "Python 3",
   "language": "python",
   "name": "python3"
  },
  "language_info": {
   "codemirror_mode": {
    "name": "ipython",
    "version": 3
   },
   "file_extension": ".py",
   "mimetype": "text/x-python",
   "name": "python",
   "nbconvert_exporter": "python",
   "pygments_lexer": "ipython3",
   "version": "3.5.2"
  }
 },
 "nbformat": 4,
 "nbformat_minor": 1
}
